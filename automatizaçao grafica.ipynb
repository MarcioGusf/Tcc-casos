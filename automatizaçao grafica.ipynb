{
 "cells": [
  {
   "cell_type": "code",
   "execution_count": 1,
   "id": "f6e46cb3",
   "metadata": {},
   "outputs": [],
   "source": [
    "from selenium import webdriver\n",
    "import time\n",
    "import os\n",
    "import datetime\n",
    "import schedule\n",
    "from selenium.webdriver.common.keys import Keys\n",
    "options = webdriver.ChromeOptions()\n",
    "prefs = {\"profile.default_content_setting_values.notifications\" : 2}\n",
    "options.add_experimental_option(\"prefs\",prefs)\n",
    "\n",
    "#navegador=webdriver.Chrome('C:\\\\Program Files\\\\Google\\\\Chrome\\\\Application\\\\chrome')\n",
    "#navegador=webdriver.Chrome('C:\\\\Users\\\\Rasca\\\\.cache\\\\selenium\\\\chromedriver\\\\win64\\\\116.0.5845.96\\\\chromedriver.exe', chrome_options=chrome_options)\n",
    "\n"
   ]
  },
  {
   "cell_type": "code",
   "execution_count": null,
   "id": "b5097895",
   "metadata": {},
   "outputs": [],
   "source": [
    "#FUNÇÃO QUE SERÁ EXECUTADA COMO PENDENCIA PELO SCHEDULE\n",
    "def fazer():\n",
    " #ABRE O NAVEGADOR\n",
    "    navegador=webdriver.Chrome(options=options)\n",
    "    #ABRE A PÁGINA DO GRÁFICO\n",
    "    navegador.get(\"https://br.tradingview.com/chart/?symbol=BMFBOVESPA%3AIBOV\")\n",
    "    time.sleep(2)\n",
    "    #CLICA NAS OPÇÕES PARA DOWLOAD\n",
    "    navegador.find_element('xpath','//*[@id=\"header-toolbar-screenshot\"]/span').click()\n",
    "    time.sleep(2)\n",
    "    navegador.find_element('xpath','//*[@id=\"overlap-manager-root\"]/div/span/div[1]/div/div/div[2]/span[1]').click()\n",
    "    time.sleep(5)\n",
    "    #SAI DO NAVEGADOR\n",
    "    navegador.quit()\n",
    "    time.sleep(10)\n",
    "#schedule.every(4).weeks.at(\"07:00\").do(fazer)    \n",
    "schedule.every(50).seconds.do(fazer)\n",
    "#SEMPRE EM EXECUÇAO\n",
    "while True:\n",
    "    ##navegador=webdriver.Chrome(options=options)\n",
    "    schedule.run_pending()\n",
    "    "
   ]
  },
  {
   "cell_type": "code",
   "execution_count": null,
   "id": "66f72235",
   "metadata": {},
   "outputs": [],
   "source": []
  },
  {
   "cell_type": "code",
   "execution_count": null,
   "id": "28cfdf8c",
   "metadata": {},
   "outputs": [],
   "source": []
  },
  {
   "cell_type": "code",
   "execution_count": null,
   "id": "4f8e30de",
   "metadata": {},
   "outputs": [],
   "source": []
  },
  {
   "cell_type": "code",
   "execution_count": null,
   "id": "2ed0cb47",
   "metadata": {},
   "outputs": [],
   "source": []
  }
 ],
 "metadata": {
  "kernelspec": {
   "display_name": "Python 3 (ipykernel)",
   "language": "python",
   "name": "python3"
  },
  "language_info": {
   "codemirror_mode": {
    "name": "ipython",
    "version": 3
   },
   "file_extension": ".py",
   "mimetype": "text/x-python",
   "name": "python",
   "nbconvert_exporter": "python",
   "pygments_lexer": "ipython3",
   "version": "3.11.4"
  }
 },
 "nbformat": 4,
 "nbformat_minor": 5
}
