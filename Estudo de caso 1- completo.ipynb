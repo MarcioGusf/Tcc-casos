{
 "cells": [
  {
   "cell_type": "code",
   "execution_count": 1,
   "id": "12c67674",
   "metadata": {},
   "outputs": [],
   "source": [
    "from selenium import webdriver\n",
    "import time\n",
    "import os\n",
    "#Modificando as opções do navegador antes de abrir, estamos desligando as notificações do navegador, \n",
    "#para acelerar a velocidade do processo e não haver interrupções\n",
    "options = webdriver.ChromeOptions()\n",
    "prefs = {\"profile.default_content_setting_values.notifications\" : 2}\n",
    "\n",
    "options.add_experimental_option(\"prefs\",prefs)\n",
    "#Formas antigas de salvar um navegador na máquina, varia de cada versão\n",
    "#navegador=webdriver.Chrome('C:\\\\Program Files\\\\Google\\\\Chrome\\\\Application\\\\chrome')\n",
    "#navegador=webdriver.Chrome('C:\\\\Users\\\\Rasca\\\\.cache\\\\selenium\\\\chromedriver\\\\win64\\\\116.0.7777.97\n",
    "#\\\\chromedriver.exe', chrome_options=chrome_options)\n",
    "navegador=webdriver.Chrome(options=options)"
   ]
  },
  {
   "cell_type": "code",
   "execution_count": 71,
   "id": "9d12790a",
   "metadata": {},
   "outputs": [],
   "source": [
    "#escolha das entradas\n",
    "mensagem='Teste tcc'\n",
    "foto= \"C:\\\\Users\\\\Rasca\\\\Downloads\\\\tcc im.png\""
   ]
  },
  {
   "cell_type": "code",
   "execution_count": 72,
   "id": "14364aac",
   "metadata": {},
   "outputs": [],
   "source": [
    "###Instagram"
   ]
  },
  {
   "cell_type": "code",
   "execution_count": 73,
   "id": "b1b97a57",
   "metadata": {},
   "outputs": [],
   "source": [
    "#entra na pagina inicial do instagram\n",
    "navegador.get(\"https://www.instagram.com/\")\n",
    "time.sleep(4)\n",
    "#escreve na caixa de texto o nome de usuario\n",
    "navegador.find_element('xpath','//*[@id=\"loginForm\"]/div/div[1]/div/label/input').send_keys(\"tccteste123\")\n",
    "time.sleep(1)\n",
    "#escreve na box da senha a senha\n",
    "navegador.find_element('xpath','//*[@id=\"loginForm\"]/div/div[2]/div/label/input').send_keys(\"tccteste123##\")\n",
    "time.sleep(1)\n",
    "#clica no botão de login\n",
    "navegador.find_element('xpath','//*[@id=\"loginForm\"]/div/div[3]/button').click()\n",
    "time.sleep(10)\n"
   ]
  },
  {
   "cell_type": "code",
   "execution_count": 74,
   "id": "eaa2eadd",
   "metadata": {},
   "outputs": [],
   "source": [
    "#recusa a primeira informaçao do instagran\n",
    "navegador.find_element('xpath','/html/body/div[2]/div/div/div[2]/div/div/div/div[1]/div[1]/div[2]/section/main/div/div/div/div/div').click()\n",
    "time.sleep(4)"
   ]
  },
  {
   "cell_type": "code",
   "execution_count": 75,
   "id": "601f5ea2",
   "metadata": {},
   "outputs": [],
   "source": [
    "#notnow click , n foi necessario pq removemos notificaçoes do google\n",
    "#navegador.find_element('xpath','/html/body/div[3]/div[1]/div/div[2]/div/div/div/div/div[2]/div/div/div[3]/button[2]').click()\n",
    "##time.sleep(2)"
   ]
  },
  {
   "cell_type": "code",
   "execution_count": 76,
   "id": "275fe04b",
   "metadata": {},
   "outputs": [],
   "source": [
    "#clicka no botao para a publicaçao\n",
    "navegador.find_element('xpath','/html/body/div[2]/div/div/div[2]/div/div/div/div[1]/div[1]/div[1]/div/div/div/div/div[2]/div[7]/div/span/div/a/div').click()\n",
    "time.sleep(20)"
   ]
  },
  {
   "cell_type": "code",
   "execution_count": 77,
   "id": "453325fb",
   "metadata": {},
   "outputs": [],
   "source": [
    "#Arrasta a foto\n",
    "navegador.find_element('xpath','/html/body/div[8]/div[1]/div/div[3]/div/div/div/div/div[2]/div/div/div/div[2]/div[1]/form/input').send_keys(foto)\n",
    "\n",
    "time.sleep(15)\n"
   ]
  },
  {
   "cell_type": "code",
   "execution_count": 78,
   "id": "55a9c48d",
   "metadata": {},
   "outputs": [],
   "source": [
    "## segue as etapas \"next\" para publicar\n",
    "navegador.find_element('xpath','/html/body/div[8]/div[1]/div/div[3]/div/div/div/div/div[2]/div/div/div/div[1]/div/div/div[3]/div/div').click()\n",
    "time.sleep(10)\n",
    "navegador.find_element('xpath','/html/body/div[8]/div[1]/div/div[3]/div/div/div/div/div[2]/div/div/div/div[1]/div/div/div[3]/div/div').click()\n",
    "time.sleep(10)\n",
    "##escreve a msg\n",
    "navegador.find_element('xpath','/html/body/div[8]/div[1]/div/div[3]/div/div/div/div/div[2]/div/div/div/div[2]/div[2]/div/div/div/div[2]/div[1]/div[1]').send_keys(mensagem)\n",
    "time.sleep(10)\n",
    "navegador.find_element('xpath','/html/body/div[8]/div[1]/div/div[3]/div/div/div/div/div[2]/div/div/div/div[1]/div/div/div[3]/div/div').click()\n",
    "time.sleep(10)"
   ]
  },
  {
   "cell_type": "code",
   "execution_count": 79,
   "id": "bd71f09b",
   "metadata": {},
   "outputs": [],
   "source": [
    "##Facebook"
   ]
  },
  {
   "cell_type": "code",
   "execution_count": 80,
   "id": "9364dfbf",
   "metadata": {},
   "outputs": [],
   "source": [
    "#Navega para a pagina do Facebook \n",
    "navegador.get(\"https://www.facebook.com/\")\n",
    "time.sleep(4)\n",
    "#escreve o login na box de nome de usuario\n",
    "navegador.find_element('xpath','/html/body/div[1]/div[1]/div[1]/div/div/div/div[2]/div/div[1]/form/div[1]/div[1]/input').send_keys(\"tccteste@outlook.com.br\")\n",
    "time.sleep(1)\n",
    "#escreve a senha na box da senha\n",
    "navegador.find_element('xpath','/html/body/div[1]/div[1]/div[1]/div/div/div/div[2]/div/div[1]/form/div[1]/div[2]/div/input').send_keys(\"tccteste##\")\n",
    "time.sleep(1)\n",
    "#clica no login\n",
    "navegador.find_element('xpath','/html/body/div[1]/div[1]/div[1]/div/div/div/div[2]/div/div[1]/form/div[2]/button').click()\n",
    "time.sleep(4)"
   ]
  },
  {
   "cell_type": "code",
   "execution_count": 81,
   "id": "d63b3629",
   "metadata": {},
   "outputs": [],
   "source": [
    "#navega para a pagina principal de postagem do face\n",
    "navegador.get(\"https://www.facebook.com/\")\n",
    "#rascunho caso seja feito via botao,achei mt lento por isso fiz via navegaçao msm\n",
    "#navegador.find_element('xpath','//*[@id=\"mount_0_0_Z0\"]/div/div[1]/div/div[2]/div[4]/div/div[1]/div[1]/ul/li[1]/span/div/a').click()\n",
    "#time.sleep(3)\n",
    "#navegador.find_element('xpath','/html/body/div[1]/div/div[1]/div/div[2]/div[1]/a').click()\n",
    "time.sleep(2)\n",
    "#processo para a postagem\n",
    "navegador.find_element('xpath','/html/body/div[1]/div/div[1]/div/div[3]/div/div/div/div[1]/div[1]/div/div[2]/div/div/div/div[3]/div/div[2]/div/div/div/div[1]/div').click()\n",
    "time.sleep(4)\n",
    "navegador.find_element('xpath','/html/body/div[1]/div/div[1]/div/div[4]/div/div/div[1]/div/div[2]/div/div/div/form/div/div[1]/div/div/div/div[2]/div[1]/div[1]/div[1]').click()\n",
    "time.sleep(3)\n",
    "\n",
    "navegador.find_element('xpath','/html/body/div[1]/div/div[1]/div/div[4]/div/div/div[1]/div/div[2]/div/div/div/form/div/div[1]/div/div/div/div[3]/div[1]/div[1]/div').click()\n",
    "time.sleep(3)\n",
    "navegador.find_element('xpath','/html/body/div[1]/div/div[1]/div/div[4]/div/div/div[1]/div/div[2]/div/div/div/form/div/div[2]/div/div/div/div[2]/div[1]/div/div/div').click()\n",
    "time.sleep(5)"
   ]
  },
  {
   "cell_type": "code",
   "execution_count": 82,
   "id": "0464c81a",
   "metadata": {
    "scrolled": true
   },
   "outputs": [],
   "source": [
    "#envio da foto pelo face\n",
    "navegador.find_element('xpath','/html/body/div[1]/div/div[1]/div/div[4]/div/div/div[1]/div/div[2]/div/div/div/form/div/div[1]/div/div/div/div[2]/div[1]/div[2]/div/div[1]/div/div/input').send_keys(foto)\n",
    "time.sleep(5)\n"
   ]
  },
  {
   "cell_type": "code",
   "execution_count": 83,
   "id": "f60ff399",
   "metadata": {},
   "outputs": [],
   "source": [
    "#mensagem escolhida\n",
    "navegador.find_element('xpath','/html/body/div[1]/div/div[1]/div/div[4]/div/div/div[1]/div/div[2]/div/div/div/form/div/div[1]/div/div/div/div[2]/div[1]/div[1]/div[1]/div/div/div[1]').send_keys(mensagem)\n",
    "time.sleep(3)"
   ]
  },
  {
   "cell_type": "code",
   "execution_count": 84,
   "id": "63105c6c",
   "metadata": {},
   "outputs": [],
   "source": [
    "#botao de postagem\n",
    "navegador.find_element('xpath','/html/body/div[1]/div/div[1]/div/div[4]/div/div/div[1]/div/div[2]/div/div/div/form/div/div[1]/div/div/div/div[3]/div[2]/div/div/div[1]/div/span').click()\n",
    "time.sleep(3)"
   ]
  },
  {
   "cell_type": "code",
   "execution_count": 85,
   "id": "84465dce",
   "metadata": {},
   "outputs": [],
   "source": [
    "##(X)Twitter"
   ]
  },
  {
   "cell_type": "code",
   "execution_count": 86,
   "id": "5c0eefd8",
   "metadata": {},
   "outputs": [],
   "source": [
    "#navega para a pagina do twiter(X)\n",
    "navegador.get(\"https://twitter.com/i/flow/login?input_flow_data=%7B%22requested_variant%22%3A%22eyJsYW5nIjoicHQifQ%3D%3D%22%7D\")\n",
    "time.sleep(2)"
   ]
  },
  {
   "cell_type": "code",
   "execution_count": 87,
   "id": "c95dd8c1",
   "metadata": {},
   "outputs": [],
   "source": [
    "#preenche o login\n",
    "navegador.find_element('xpath','//*[@id=\"layers\"]/div/div/div/div/div/div/div[2]/div[2]/div/div/div[2]/div[2]/div/div/div/div[5]/label/div/div[2]/div/input').send_keys(\"tccteste123\")\n",
    "time.sleep(3)"
   ]
  },
  {
   "cell_type": "code",
   "execution_count": 88,
   "id": "e4ace33b",
   "metadata": {},
   "outputs": [],
   "source": [
    "#clica em seguir para ser possivel colocar a senha\n",
    "navegador.find_element('xpath','//*[@id=\"layers\"]/div/div/div/div/div/div/div[2]/div[2]/div/div/div[2]/div[2]/div/div/div/div[6]/div/span').click()\n",
    "time.sleep(5)"
   ]
  },
  {
   "cell_type": "code",
   "execution_count": 89,
   "id": "3beb21d1",
   "metadata": {},
   "outputs": [],
   "source": [
    "#coloca a senha\n",
    "navegador.find_element('xpath','//*[@id=\"layers\"]/div/div/div/div/div/div/div[2]/div[2]/div/div/div[2]/div[2]/div[1]/div/div/div[3]/div/label/div/div[2]/div[1]/input').send_keys(\"tccteste123##\")\n",
    "time.sleep(2)"
   ]
  },
  {
   "cell_type": "code",
   "execution_count": 90,
   "id": "3d83cb40",
   "metadata": {},
   "outputs": [],
   "source": [
    "#clica no botao de login\n",
    "navegador.find_element('xpath','//*[@id=\"layers\"]/div/div/div/div/div/div/div[2]/div[2]/div/div/div[2]/div[2]/div[2]/div/div[1]/div/div/div/div/span').click()\n",
    "time.sleep(5)"
   ]
  },
  {
   "cell_type": "code",
   "execution_count": 91,
   "id": "8cc1223c",
   "metadata": {},
   "outputs": [],
   "source": [
    "#adiciona a foto e mensagem diretamente sem clicar na box o site X possui uma facilidade a mais\n",
    "navegador.find_element('xpath','//*[@id=\"react-root\"]/div/div/div[2]/main/div/div/div/div/div/div[3]/div/div[2]/div[1]/div/div/div/div[2]/div[1]/div/div/div/div/div/div/div/div/div/div/label/div[1]/div/div/div/div/div/div[2]/div/div/div/div').send_keys(mensagem)\n",
    "time.sleep(1)\n",
    "navegador.find_element('xpath','//*[@id=\"react-root\"]/div/div/div[2]/main/div/div/div/div[1]/div/div[3]/div/div[2]/div[1]/div/div/div/div[2]/div[2]/div[2]/div/div/div[1]/input').send_keys(foto)\n",
    "time.sleep(1)"
   ]
  },
  {
   "cell_type": "code",
   "execution_count": 92,
   "id": "74f71f17",
   "metadata": {},
   "outputs": [],
   "source": [
    "#clica no botao de publicar\n",
    "navegador.find_element('xpath','//*[@id=\"react-root\"]/div/div/div[2]/main/div/div/div/div/div/div[3]/div/div[2]/div[1]/div/div/div/div[2]/div[2]/div[2]/div/div/div[2]/div[3]/div/span').click()\n",
    "time.sleep(2)"
   ]
  },
  {
   "cell_type": "code",
   "execution_count": 93,
   "id": "8fde88d8",
   "metadata": {},
   "outputs": [],
   "source": [
    "#sai do navegador\n",
    "navegador.quit()"
   ]
  },
  {
   "cell_type": "code",
   "execution_count": null,
   "id": "e155cf90",
   "metadata": {},
   "outputs": [],
   "source": []
  },
  {
   "cell_type": "code",
   "execution_count": null,
   "id": "58700a8e",
   "metadata": {},
   "outputs": [],
   "source": []
  }
 ],
 "metadata": {
  "kernelspec": {
   "display_name": "Python 3 (ipykernel)",
   "language": "python",
   "name": "python3"
  },
  "language_info": {
   "codemirror_mode": {
    "name": "ipython",
    "version": 3
   },
   "file_extension": ".py",
   "mimetype": "text/x-python",
   "name": "python",
   "nbconvert_exporter": "python",
   "pygments_lexer": "ipython3",
   "version": "3.11.4"
  }
 },
 "nbformat": 4,
 "nbformat_minor": 5
}
