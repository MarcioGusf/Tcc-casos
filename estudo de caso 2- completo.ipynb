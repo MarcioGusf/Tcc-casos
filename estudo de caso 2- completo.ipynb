{
 "cells": [
  {
   "cell_type": "code",
   "execution_count": 1,
   "id": "6ff7b6ad",
   "metadata": {},
   "outputs": [],
   "source": [
    "from selenium import webdriver\n",
    "import time\n",
    "import os\n",
    "import datetime\n",
    "from selenium.webdriver.common.keys import Keys\n",
    "options = webdriver.ChromeOptions()\n",
    "prefs = {\"profile.default_content_setting_values.notifications\" : 2}\n",
    "\n",
    "options.add_experimental_option(\"prefs\",prefs)\n",
    "\n",
    "#navegador=webdriver.Chrome('C:\\\\Program Files\\\\Google\\\\Chrome\\\\Application\\\\chrome')\n",
    "#navegador=webdriver.Chrome('C:\\\\Users\\\\Rasca\\\\.cache\\\\selenium\\\\chromedriver\\\\win64\\\\116.0.5845.96\\\\chromedriver.exe', chrome_options=chrome_options)\n",
    "navegador=webdriver.Chrome(options=options)\n",
    "\n"
   ]
  },
  {
   "cell_type": "code",
   "execution_count": 2,
   "id": "8cee66c0",
   "metadata": {},
   "outputs": [],
   "source": [
    "#abre a pagina do whatss para colocar o qr code\n",
    "navegador.get(\"https://web.whatsapp.com/\")\n",
    "time.sleep(30)"
   ]
  },
  {
   "cell_type": "code",
   "execution_count": 9,
   "id": "07e3c605",
   "metadata": {},
   "outputs": [],
   "source": [
    "#escolha de entradas\n",
    "mensagem='esta mensagem sera enviada as 22 e 38'\n",
    "foto= \"C:\\\\Users\\\\Rasca\\\\Downloads\\\\tcc im.png\"\n",
    "contato ='TCC'"
   ]
  },
  {
   "cell_type": "code",
   "execution_count": 10,
   "id": "7903d547",
   "metadata": {
    "scrolled": false
   },
   "outputs": [
    {
     "name": "stdout",
     "output_type": "stream",
     "text": [
      "2023-09-18 22:38:00\n",
      "2023-09-18 22:36:27.563527\n",
      "o tempo que falta para a postagem é de: 0:01:32.436473\n",
      "repetir\n",
      "o tempo que falta para a postagem é de: 0:01:32.435475\n",
      "repetir\n",
      "o tempo que falta para a postagem é de: 0:00:32.434742\n",
      "hora de enviar\n"
     ]
    }
   ],
   "source": [
    "##entradas para as escolhas da data de postagem\n",
    "ano=2023\n",
    "mes=9\n",
    "dia=18\n",
    "h=22\n",
    "minu=38\n",
    "s=0\n",
    "##pega a data e o tempo atual\n",
    "agora= datetime.datetime.now()\n",
    "#define quando sera a postagem pelas escolhas das entrada\n",
    "diadapostagem=datetime.datetime(ano,mes,dia,h,minu,s)\n",
    "m=diadapostagem-agora\n",
    "print(diadapostagem)\n",
    "print(agora)\n",
    "print(\"o tempo que falta para a postagem é de:\",m)\n",
    "parar=0\n",
    "#laço de repetiçao para a constante atualizaçao da data, caso a atualizaçao ja tenha passado da data, as entradas serao psotadas,\n",
    "##caso nao a postagem n sera feita e havera uma nova atualizaçao de quanto tempo falta até a permissao da postagem\n",
    "while parar==0:\n",
    "      agora= datetime.datetime.now()\n",
    "      if diadapostagem<=agora:\n",
    "            parar=1\n",
    "            print('hora de enviar')\n",
    "            navegador.find_element('xpath','//*[@id=\"side\"]/div[1]/div/div/div[2]/div/div[1]/p').send_keys(contato)\n",
    "            time.sleep(2)\n",
    "            navegador.find_element('xpath','//*[@id=\"side\"]/div[1]/div/div/div[2]/div/div[1]/p').send_keys(Keys.ENTER)\n",
    "            time.sleep(2)\n",
    "            navegador.find_element('xpath','//*[@id=\"main\"]/footer/div[1]/div/span[2]/div/div[2]/div[1]/div/div[1]/p').send_keys(mensagem)\n",
    "            time.sleep(1)\n",
    "            navegador.find_element('xpath','//*[@id=\"main\"]/footer/div[1]/div/span[2]/div/div[2]/div[1]/div/div[1]/p').send_keys(Keys.ENTER)\n",
    "      else:\n",
    "                print('repetir')\n",
    "                m=diadapostagem-agora\n",
    "                print(\"o tempo que falta para a postagem é de:\",m)\n",
    "                time.sleep(60)\n",
    "      "
   ]
  },
  {
   "cell_type": "code",
   "execution_count": null,
   "id": "8ff926f7",
   "metadata": {},
   "outputs": [],
   "source": []
  }
 ],
 "metadata": {
  "kernelspec": {
   "display_name": "Python 3 (ipykernel)",
   "language": "python",
   "name": "python3"
  },
  "language_info": {
   "codemirror_mode": {
    "name": "ipython",
    "version": 3
   },
   "file_extension": ".py",
   "mimetype": "text/x-python",
   "name": "python",
   "nbconvert_exporter": "python",
   "pygments_lexer": "ipython3",
   "version": "3.11.4"
  }
 },
 "nbformat": 4,
 "nbformat_minor": 5
}
